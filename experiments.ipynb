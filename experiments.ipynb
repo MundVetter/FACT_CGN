{
 "cells": [
  {
   "cell_type": "markdown",
   "metadata": {},
   "source": [
    "# Reproducibility study - Counterfactual Generative Networks\n"
   ]
  },
  {
   "cell_type": "markdown",
   "metadata": {},
   "source": [
    "## Setup\n",
    "We first need to install the packages "
   ]
  },
  {
   "cell_type": "code",
   "execution_count": 2,
   "metadata": {},
   "outputs": [
    {
     "name": "stdout",
     "output_type": "stream",
     "text": [
      "Collecting torch==1.10.0\n",
      "  Downloading torch-1.10.0-cp38-cp38-manylinux1_x86_64.whl (881.9 MB)\n",
      "\u001b[K     |████████████████████████████████| 881.9 MB 7.9 kB/s \n",
      "\u001b[?25hCollecting torchvision==0.11.1\n",
      "  Downloading torchvision-0.11.1-cp38-cp38-manylinux1_x86_64.whl (23.3 MB)\n",
      "\u001b[K     |████████████████████████████████| 23.3 MB 16.2 MB/s \n",
      "\u001b[?25hRequirement already satisfied: repackage in /home/mund/.local/lib/python3.8/site-packages (from -r requirements.txt (line 3)) (0.7.3)\n",
      "Collecting numpy==1.20.1\n",
      "  Downloading numpy-1.20.1-cp38-cp38-manylinux2010_x86_64.whl (15.4 MB)\n",
      "\u001b[K     |████████████████████████████████| 15.4 MB 12.4 MB/s \n",
      "\u001b[?25hRequirement already satisfied: pandas in /home/mund/.local/lib/python3.8/site-packages (from -r requirements.txt (line 5)) (1.1.4)\n",
      "Requirement already satisfied: Pillow in /usr/lib/python3/dist-packages (from -r requirements.txt (line 6)) (7.0.0)\n",
      "Requirement already satisfied: tensorboardX in /home/mund/.local/lib/python3.8/site-packages (from -r requirements.txt (line 7)) (2.4.1)\n",
      "Requirement already satisfied: scipy in /home/mund/.local/lib/python3.8/site-packages (from -r requirements.txt (line 8)) (1.6.2)\n",
      "Requirement already satisfied: grad-cam in /home/mund/.local/lib/python3.8/site-packages (from -r requirements.txt (line 9)) (1.3.7)\n",
      "Requirement already satisfied: gdown in /home/mund/.local/lib/python3.8/site-packages (from -r requirements.txt (line 10)) (4.2.1)\n",
      "Requirement already satisfied: typing-extensions in /home/mund/.local/lib/python3.8/site-packages (from torch==1.10.0->-r requirements.txt (line 1)) (4.0.0)\n",
      "Requirement already satisfied: pytz>=2017.2 in /home/mund/.local/lib/python3.8/site-packages (from pandas->-r requirements.txt (line 5)) (2020.4)\n",
      "Requirement already satisfied: python-dateutil>=2.7.3 in /home/mund/.local/lib/python3.8/site-packages (from pandas->-r requirements.txt (line 5)) (2.8.0)\n",
      "Requirement already satisfied: protobuf>=3.8.0 in /home/mund/.local/lib/python3.8/site-packages (from tensorboardX->-r requirements.txt (line 7)) (3.19.4)\n",
      "Requirement already satisfied: tqdm in /home/mund/.local/lib/python3.8/site-packages (from grad-cam->-r requirements.txt (line 9)) (4.56.0)\n",
      "Requirement already satisfied: ttach in /home/mund/.local/lib/python3.8/site-packages (from grad-cam->-r requirements.txt (line 9)) (0.0.3)\n",
      "Requirement already satisfied: opencv-python in /home/mund/.local/lib/python3.8/site-packages (from grad-cam->-r requirements.txt (line 9)) (4.5.5.62)\n",
      "Requirement already satisfied: six in /usr/lib/python3/dist-packages (from gdown->-r requirements.txt (line 10)) (1.14.0)\n",
      "Requirement already satisfied: filelock in /home/mund/.local/lib/python3.8/site-packages (from gdown->-r requirements.txt (line 10)) (3.0.12)\n",
      "Requirement already satisfied: requests[socks] in /home/mund/.local/lib/python3.8/site-packages (from gdown->-r requirements.txt (line 10)) (2.25.1)\n",
      "Requirement already satisfied: beautifulsoup4 in /home/mund/.local/lib/python3.8/site-packages (from gdown->-r requirements.txt (line 10)) (4.8.0)\n",
      "Requirement already satisfied: chardet<5,>=3.0.2 in /usr/lib/python3/dist-packages (from requests[socks]->gdown->-r requirements.txt (line 10)) (3.0.4)\n",
      "Requirement already satisfied: certifi>=2017.4.17 in /home/mund/.local/lib/python3.8/site-packages (from requests[socks]->gdown->-r requirements.txt (line 10)) (2019.9.11)\n",
      "Requirement already satisfied: idna<3,>=2.5 in /usr/lib/python3/dist-packages (from requests[socks]->gdown->-r requirements.txt (line 10)) (2.8)\n",
      "Requirement already satisfied: urllib3<1.27,>=1.21.1 in /home/mund/.local/lib/python3.8/site-packages (from requests[socks]->gdown->-r requirements.txt (line 10)) (1.26.4)\n",
      "Requirement already satisfied: PySocks!=1.5.7,>=1.5.6; extra == \"socks\" in /home/mund/.local/lib/python3.8/site-packages (from requests[socks]->gdown->-r requirements.txt (line 10)) (1.7.1)\n",
      "Requirement already satisfied: soupsieve>=1.2 in /home/mund/.local/lib/python3.8/site-packages (from beautifulsoup4->gdown->-r requirements.txt (line 10)) (1.9.3)\n",
      "\u001b[31mERROR: rasterio 1.2.3 has requirement click<8,>=4.0, but you'll have click 8.0.1 which is incompatible.\u001b[0m\n",
      "Installing collected packages: torch, numpy, torchvision\n",
      "  Attempting uninstall: torch\n",
      "    Found existing installation: torch 1.9.0+cpu\n",
      "    Uninstalling torch-1.9.0+cpu:\n",
      "      Successfully uninstalled torch-1.9.0+cpu\n",
      "  Attempting uninstall: numpy\n",
      "    Found existing installation: numpy 1.17.2\n",
      "    Uninstalling numpy-1.17.2:\n",
      "      Successfully uninstalled numpy-1.17.2\n",
      "  Attempting uninstall: torchvision\n",
      "    Found existing installation: torchvision 0.11.3\n",
      "    Uninstalling torchvision-0.11.3:\n",
      "      Successfully uninstalled torchvision-0.11.3\n",
      "Successfully installed numpy-1.20.1 torch-1.10.0 torchvision-0.11.1\n"
     ]
    }
   ],
   "source": [
    "import sys\n",
    "py = sys.executable\n",
    "!{sys.executable} -m pip install -r requirements.txt"
   ]
  },
  {
   "cell_type": "code",
   "execution_count": 5,
   "metadata": {},
   "outputs": [
    {
     "name": "stderr",
     "output_type": "stream",
     "text": [
      "Downloading...\n",
      "From: https://drive.google.com/u/0/uc?export=download&confirm=rHtT&id=1NSv4RCSHjcHois3dXjYw_PaLIoVlLgXu\n",
      "To: /mnt/c/Users/Mundv/test3/FACT_CGN/colored_mnist.tar.gz\n",
      "100%|██████████| 38.8M/38.8M [00:02<00:00, 15.0MB/s]\n",
      "Downloading...\n",
      "From: https://drive.google.com/u/0/uc?id=1VkKexkWh5SeB8fgxAZxLKgmmvDXhVYUy&export=downloadl\n",
      "To: /mnt/c/Users/Mundv/test3/FACT_CGN/u2net.pth\n",
      "100%|██████████| 176M/176M [00:16<00:00, 10.7MB/s] \n",
      "Downloading...\n",
      "From: https://drive.google.com/u/0/uc?id=12yVFHPUjKmUFGnO2D4xVlTSpF8CUj136&export=download\n",
      "To: /mnt/c/Users/Mundv/test3/FACT_CGN/cgn.pth\n",
      " 69%|██████▉   | 772M/1.11G [16:48<24:33:22, 3.88kB/s]"
     ]
    }
   ],
   "source": [
    "import gdown\n",
    "\n",
    "gdown.download('https://drive.google.com/u/0/uc?export=download&confirm=rHtT&id=1NSv4RCSHjcHois3dXjYw_PaLIoVlLgXu', 'colored_mnist.tar.gz')\n",
    "gdown.download(\"https://drive.google.com/u/0/uc?id=1VkKexkWh5SeB8fgxAZxLKgmmvDXhVYUy&export=downloadl\", \"u2net.pth\")\n",
    "gdown.download(\"https://drive.google.com/u/0/uc?id=12yVFHPUjKmUFGnO2D4xVlTSpF8CUj136&export=download\", \"cgn.pth\")\n"
   ]
  },
  {
   "cell_type": "code",
   "execution_count": 3,
   "metadata": {},
   "outputs": [
    {
     "name": "stdout",
     "output_type": "stream",
     "text": [
      "Process is interrupted.\n"
     ]
    }
   ],
   "source": [
    "%%sh\n",
    "#!/usr/bin/env bash\n",
    "# Move Colored MNIST\n",
    "tar -xzvf colored_mnist.tar.gz\n",
    "mv colored_mnist mnists/data\n",
    "rm colored_mnist.tar.gz\n",
    "\n",
    "# Download BG challenge dataset\n",
    "wget https://github.com/MadryLab/backgrounds_challenge/releases/download/data/backgrounds_challenge_data.tar.gz\n",
    "tar -xzvf backgrounds_challenge_data.tar.gz\n",
    "mkdir imagenet/data/in9\n",
    "mv bg_challenge/* imagenet/data/in9\n",
    "rmdir bg_challenge\n",
    "rm backgrounds_challenge_data.tar.gz\n",
    "\n",
    "# Download the Cue Conflict dataset\n",
    "git clone https://github.com/rgeirhos/texture-vs-shape/\n",
    "mkdir imagenet/data/cue_conflict\n",
    "mv texture-vs-shape/stimuli/style-transfer-preprocessed-512/* imagenet/data/cue_conflict\n",
    "rm -rf texture-vs-shape\n"
   ]
  },
  {
   "cell_type": "code",
   "execution_count": null,
   "metadata": {},
   "outputs": [],
   "source": [
    "#!/usr/bin/env bash\n",
    "\n",
    "mv u2net.pth imagenet/weights\n",
    "\n",
    "mv cgn.pth imagenet/weights\n",
    "\n",
    "wget \"https://s3.amazonaws.com/models.huggingface.co/biggan/biggan-deep-256-pytorch_model.bin\"\n",
    "mv biggan-deep-256-pytorch_model.bin imagenet/weights/biggan256.pth"
   ]
  },
  {
   "cell_type": "markdown",
   "metadata": {},
   "source": [
    "## Experiments"
   ]
  },
  {
   "cell_type": "markdown",
   "metadata": {},
   "source": [
    "### MNIST"
   ]
  },
  {
   "cell_type": "markdown",
   "metadata": {},
   "source": [
    "We first need to train the CGN such that it can generate counterfactual images."
   ]
  },
  {
   "cell_type": "code",
   "execution_count": null,
   "metadata": {},
   "outputs": [],
   "source": [
    "!py -u mnists/train_cgn.py --cfg mnists/experiments/cgn_colored_MNIST/cfg.yaml\n",
    "!py -u mnists/train_cgn.py --cfg mnists/experiments/cgn_double_colored_MNIST/cfg.yaml\n",
    "!py -u mnists/train_cgn.py --cfg mnists/experiments/cgn_wildlife_MNIST/cfg.yaml"
   ]
  },
  {
   "cell_type": "markdown",
   "metadata": {},
   "source": [
    "Let's generate the datasets!"
   ]
  },
  {
   "cell_type": "code",
   "execution_count": null,
   "metadata": {},
   "outputs": [],
   "source": [
    "!py -u mnists/generate_data.py --dataset colored_MNIST\n",
    "!py -u mnists/generate_data.py --weight_path mnists/experiments/cgn_colored_MNIST/weights/ckp.pth --dataset colored_MNIST --no_cfs 10 --dataset_size 100000 --counterfactual\n",
    "!py -u mnists/generate_data.py --dataset wildlife_MNIST\n",
    "!py mnists/generate_data.py --weight_path mnists/experiments/cgn_wildlife_MNIST/weights/ckp.pth --dataset wildlife_MNIST --no_cfs 5 --dataset_size 100000 --counterfactual\n",
    "!py -u mnists/generate_data.py --dataset double_colored_MNIST\n",
    "!py -u mnists/generate_data.py --weight_path mnists/experiments/cgn_double_colored_MNIST/weights/ckp.pth --dataset double_colored_MNIST --no_cfs 10 --dataset_size 100000 --counterfactual"
   ]
  }
 ],
 "metadata": {
  "interpreter": {
   "hash": "31f2aee4e71d21fbe5cf8b01ff0e069b9275f58929596ceb00d14d90e3e16cd6"
  },
  "kernelspec": {
   "display_name": "Python 3.8.2 64-bit",
   "name": "python3"
  },
  "language_info": {
   "codemirror_mode": {
    "name": "ipython",
    "version": 3
   },
   "file_extension": ".py",
   "mimetype": "text/x-python",
   "name": "python",
   "nbconvert_exporter": "python",
   "pygments_lexer": "ipython3",
   "version": "3.8.2"
  },
  "orig_nbformat": 4
 },
 "nbformat": 4,
 "nbformat_minor": 2
}
