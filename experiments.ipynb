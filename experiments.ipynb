{
  "cells": [
    {
      "cell_type": "markdown",
      "metadata": {
        "id": "d07Sc0kE3WcY"
      },
      "source": [
        "# Reproducibility study - Counterfactual Generative Networks"
      ]
    },
    {
      "cell_type": "markdown",
      "metadata": {
        "id": "uoaZBVhr3Wca"
      },
      "source": [
        "## Setup\n",
        "We first need to install the packages "
      ]
    },
    {
      "cell_type": "code",
      "execution_count": null,
      "metadata": {
        "id": "VzdKzAz-3Wcb"
      },
      "outputs": [],
      "source": [
        "import sys\n",
        "py = sys.executable"
      ]
    },
    {
      "cell_type": "code",
      "execution_count": null,
      "metadata": {
        "id": "gkr3zvFx3Wcb"
      },
      "outputs": [],
      "source": [
        "!{py} -m pip install -r requirements.txt"
      ]
    },
    {
      "cell_type": "code",
      "execution_count": null,
      "metadata": {
        "id": "0s0kWFDB3Wcc"
      },
      "outputs": [],
      "source": [
        "import gdown"
      ]
    },
    {
      "cell_type": "code",
      "execution_count": null,
      "metadata": {
        "id": "GwSJnV8c3Wcc"
      },
      "outputs": [],
      "source": [
        "gdown.download('https://drive.google.com/u/0/uc?export=download&confirm=rHtT&id=1NSv4RCSHjcHois3dXjYw_PaLIoVlLgXu', 'colored_mnist.tar.gz')\n",
        "gdown.download(\"https://drive.google.com/u/0/uc?id=1VkKexkWh5SeB8fgxAZxLKgmmvDXhVYUy&export=downloadl\", \"u2net.pth\")\n",
        "gdown.download(\"https://drive.google.com/u/0/uc?id=12yVFHPUjKmUFGnO2D4xVlTSpF8CUj136&export=download\", \"cgn.pth\")"
      ]
    },
    {
      "cell_type": "code",
      "execution_count": null,
      "metadata": {
        "id": "Ofd7faKY3Wcd"
      },
      "outputs": [],
      "source": [
        "gdown.download(\"https://drive.google.com/uc?id=1ft5tjOh9Rx_6OBkqyPL4NaqC70Rl0kxK\", \"imagenet-mini.zip\")"
      ]
    },
    {
      "cell_type": "code",
      "execution_count": null,
      "metadata": {
        "id": "AvSj17bB3Wcd"
      },
      "outputs": [],
      "source": [
        "%%sh\n",
        "mkdir -p imagenet/data/imagenet-mini\n",
        "unzip -q -o imagenet-mini.zip -d imagenet/data/imagenet-mini\n",
        "rm imagenet-mini.zip\n"
      ]
    },
    {
      "cell_type": "code",
      "execution_count": null,
      "metadata": {
        "id": "Ajj18VAi3Wcd"
      },
      "outputs": [],
      "source": [
        "%%sh\n",
        "#!/usr/bin/env bash\n",
        "# Move Colored MNIST\n",
        "tar -xzf colored_mnist.tar.gz \n",
        "mv colored_mnist mnists/data\n",
        "rm colored_mnist.tar.gz\n",
        "\n",
        "# Download BG challenge dataset\n",
        "wget https://github.com/MadryLab/backgrounds_challenge/releases/download/data/backgrounds_challenge_data.tar.gz\n",
        "tar -xzf backgrounds_challenge_data.tar.gz\n",
        "mkdir imagenet/data/in9\n",
        "mv bg_challenge/* imagenet/data/in9\n",
        "rmdir bg_challenge\n",
        "rm backgrounds_challenge_data.tar.gz\n",
        "\n",
        "# Download the Cue Conflict dataset\n",
        "git clone --quiet https://github.com/rgeirhos/texture-vs-shape/\n",
        "mkdir imagenet/data/cue_conflict\n",
        "mv texture-vs-shape/stimuli/style-transfer-preprocessed-512/* imagenet/data/cue_conflict\n",
        "rm -rf texture-vs-shape\n"
      ]
    },
    {
      "cell_type": "code",
      "execution_count": null,
      "metadata": {
        "id": "WHKETCkc3Wce"
      },
      "outputs": [],
      "source": [
        "%%sh\n",
        "#!/usr/bin/env bash\n",
        "\n",
        "mv u2net.pth imagenet/weights\n",
        "\n",
        "mv cgn.pth imagenet/weights\n",
        "\n",
        "wget -q \"https://s3.amazonaws.com/models.huggingface.co/biggan/biggan-deep-256-pytorch_model.bin\"\n",
        "mv biggan-deep-256-pytorch_model.bin imagenet/weights/biggan256.pth"
      ]
    },
    {
      "cell_type": "markdown",
      "metadata": {
        "id": "xGXC4ijG3Wce"
      },
      "source": [
        "## MNIST"
      ]
    },
    {
      "cell_type": "markdown",
      "metadata": {
        "id": "2_Mesyia3Wcf"
      },
      "source": [
        "Before doing any MNIST operations we need to generate the non-counterfactual datasets."
      ]
    },
    {
      "cell_type": "code",
      "execution_count": null,
      "metadata": {
        "id": "LotUkXf33Wcf"
      },
      "outputs": [],
      "source": [
        "!{py} -u mnists/generate_data.py --dataset colored_MNIST\n",
        "!{py} -u mnists/generate_data.py --dataset double_colored_MNIST\n",
        "!{py} -u mnists/generate_data.py --dataset wildlife_MNIST"
      ]
    },
    {
      "cell_type": "markdown",
      "metadata": {
        "id": "YBOPBSnq3Wcf"
      },
      "source": [
        "### Table 2"
      ]
    },
    {
      "cell_type": "markdown",
      "metadata": {
        "id": "OiIYFI513Wcf"
      },
      "source": [
        "Note: generating table 2 can take upto 5 hours"
      ]
    },
    {
      "cell_type": "code",
      "execution_count": null,
      "metadata": {
        "id": "otreRUAQ3Wcg"
      },
      "outputs": [],
      "source": [
        "!{py} experiments/table2.py"
      ]
    },
    {
      "cell_type": "code",
      "execution_count": null,
      "metadata": {
        "id": "6GD8oTC-3Wcg"
      },
      "outputs": [],
      "source": [
        "!cat table2_data_2.json"
      ]
    },
    {
      "cell_type": "markdown",
      "metadata": {
        "id": "Yo6JT2IP3Wcg"
      },
      "source": [
        "### Heatmaps"
      ]
    },
    {
      "cell_type": "markdown",
      "metadata": {
        "id": "RJ57z5Xw3Wcg"
      },
      "source": [
        "NOTE: this experiments depends on the counterfactual dataset generated in the previous experiment."
      ]
    },
    {
      "cell_type": "code",
      "execution_count": null,
      "metadata": {
        "id": "bGu3aScD3Wch"
      },
      "outputs": [],
      "source": [
        "!{py} mnists/generate_10_colored.py"
      ]
    },
    {
      "cell_type": "code",
      "execution_count": null,
      "metadata": {
        "id": "6rNYnqlw3Wch"
      },
      "outputs": [],
      "source": [
        "!{py} mnists/train_classifier.py --dataset double_colored_MNIST --grad_cam\n",
        "!{py} mnists/train_classifier.py --dataset double_colored_MNIST_counterfactual --grad_cam\n",
        "!{py} mnists/train_classifier.py --dataset double_colored_MNIST_counterfactual --grad_cam  --original"
      ]
    },
    {
      "cell_type": "markdown",
      "metadata": {
        "id": "mPumlbN43Wch"
      },
      "source": [
        "A sample heatmap (double colored MNIST):"
      ]
    },
    {
      "cell_type": "code",
      "execution_count": null,
      "metadata": {
        "id": "Nu5fnrr23Wch"
      },
      "outputs": [],
      "source": [
        "!{py} mnists/plot_grad_cam.py"
      ]
    },
    {
      "cell_type": "markdown",
      "metadata": {
        "id": "wwSjUWy03Wch"
      },
      "source": [
        "![heatmap](https://github.com/MundVetter/FACT_CGN/blob/main/mnists/data/grad_cam/double_colored_MNIST_counterfactual_False_False/heatmap.png?raw=1)\n",
        "\n",
        "Note that ordering is OS specific "
      ]
    },
    {
      "cell_type": "markdown",
      "metadata": {
        "id": "oZqk9pfQ3Wci"
      },
      "source": [
        "## Imagenet"
      ]
    },
    {
      "cell_type": "code",
      "execution_count": null,
      "metadata": {
        "id": "1_O8LNn-3Wcj"
      },
      "outputs": [],
      "source": [
        "from datetime import datetime\n",
        "import matplotlib.pyplot as plt\n",
        "import cv2\n",
        "\n",
        "data_path = lambda run_name: f'imagenet/data/{datetime.now().strftime(\"%Y_%m_%d_%H_\")}{run_name}_trunc_1.0/'"
      ]
    },
    {
      "cell_type": "markdown",
      "metadata": {
        "id": "o6jWPA_J3Wci"
      },
      "source": [
        "(Optional) If you want to train your own CGN remove the # from the command below. Note that training takes a lot of time (20 hours+)! Also make sure your GPU memory has enough memory. "
      ]
    },
    {
      "cell_type": "code",
      "execution_count": null,
      "metadata": {
        "id": "4miDBXQv3Wci"
      },
      "outputs": [],
      "source": [
        "# !{py} imagenet/train_cgn.py --model_name cgn --batch_acc 500 --episodes 200 --batch_sz 5 --log_losses --save_iter 1500"
      ]
    },
    {
      "cell_type": "markdown",
      "metadata": {
        "id": "XL83IEjX3Wci"
      },
      "source": [
        "If you want to use your self trained CGN, change the path below to the location of the self trained CGN. Otherwhise you don't have to do anything :)"
      ]
    },
    {
      "cell_type": "code",
      "execution_count": null,
      "metadata": {
        "id": "YkO4lHSY3Wci"
      },
      "outputs": [],
      "source": [
        "weight_path =  \"imagenet/weights/cgn.pth\""
      ]
    },
    {
      "cell_type": "markdown",
      "metadata": {
        "id": "JPwjxylV3Wci"
      },
      "source": [
        "### Generating counterfactuals"
      ]
    },
    {
      "cell_type": "code",
      "execution_count": null,
      "metadata": {
        "id": "In0vhAi83Wci"
      },
      "outputs": [],
      "source": [
        "!{py} -u imagenet/generate_data.py --mode random --weights_path {weight_path} --n_data 5 --run_name \"random\""
      ]
    },
    {
      "cell_type": "code",
      "execution_count": null,
      "metadata": {
        "id": "NrkZQomb3Wcj"
      },
      "outputs": [],
      "source": [
        "img_path = data_path(\"random\") + \"ims/\" + 'random_0000000_x_gen.jpg'\n",
        "img = cv2.cvtColor(cv2.imread(img_path), cv2.COLOR_BGR2RGB)\n",
        "plt.imshow(img)"
      ]
    },
    {
      "cell_type": "markdown",
      "metadata": {
        "id": "GIqIl-hb3Wcj"
      },
      "source": [
        "### Generating non-counterfactuals"
      ]
    },
    {
      "cell_type": "markdown",
      "metadata": {
        "id": "4wQqcRWl3Wcj"
      },
      "source": [
        "(Optional) Uncomment the next line if you want to get accurate training accuracies, inception scores and mu mask values. Note that this will increase the run time of the `generate_data` function to at least 4 hours."
      ]
    },
    {
      "cell_type": "code",
      "execution_count": null,
      "metadata": {
        "id": "mgHw7TuW3Wcj"
      },
      "outputs": [],
      "source": [
        "n_data = 100\n",
        "# n_data = 50000"
      ]
    },
    {
      "cell_type": "code",
      "execution_count": null,
      "metadata": {
        "id": "MBpB7Ys_3Wck"
      },
      "outputs": [],
      "source": [
        "!{py} -u imagenet/generate_data.py --mode random_same_class --weights_path {weight_path} --n_data {n_data} --run_name \"random_same\""
      ]
    },
    {
      "cell_type": "code",
      "execution_count": null,
      "metadata": {
        "id": "WMslxZ043Wck"
      },
      "outputs": [],
      "source": [
        "random_same = data_path(\"random_same\") + \"ims\""
      ]
    },
    {
      "cell_type": "markdown",
      "metadata": {
        "id": "IU0CUXB63Wck"
      },
      "source": [
        "The Inception Score is calcualted using TensorFlow because the Pytorch implementation deviates from the results obtained from the original paper."
      ]
    },
    {
      "cell_type": "markdown",
      "metadata": {
        "id": "W4pNXzDn3Wck"
      },
      "source": [
        "IS for CGN:"
      ]
    },
    {
      "cell_type": "code",
      "execution_count": null,
      "metadata": {
        "id": "akNoGti33Wck"
      },
      "outputs": [],
      "source": [
        "!{py} -u -m imagenet.inception_score --path {random_same} --batch-size 64 --splits 1 --cuda --kind x_gen --tensorflow"
      ]
    },
    {
      "cell_type": "markdown",
      "metadata": {
        "id": "78_gBFAn3Wck"
      },
      "source": [
        "IS for BigGAN:"
      ]
    },
    {
      "cell_type": "code",
      "execution_count": null,
      "metadata": {
        "id": "pGLl32sp3Wck"
      },
      "outputs": [],
      "source": [
        "!{py} -u -m imagenet.inception_score --path {random_same} --batch-size 64 --splits 1 --cuda --kind x_gt --tensorflow"
      ]
    },
    {
      "cell_type": "markdown",
      "metadata": {
        "id": "SArusL7a3Wcl"
      },
      "source": [
        "$\\mu_{mask}$ value for the CGN"
      ]
    },
    {
      "cell_type": "code",
      "execution_count": null,
      "metadata": {
        "id": "5hG3Cz6_3Wcl"
      },
      "outputs": [],
      "source": [
        "!{py} -u -m imagenet.calculate_mask --path {random_same}"
      ]
    },
    {
      "cell_type": "markdown",
      "metadata": {
        "id": "FYJJsr_f_EZY"
      },
      "source": [
        "### Create interpolations"
      ]
    },
    {
      "cell_type": "markdown",
      "metadata": {
        "id": "WAiOJi4qpkMX"
      },
      "source": [
        "The interpolation method can be modified to \"bg\", \"text\", \"shape\" and \"all\"."
      ]
    },
    {
      "cell_type": "code",
      "execution_count": null,
      "metadata": {
        "id": "xCNFiQamIaMD"
      },
      "outputs": [],
      "source": [
        "!{py} -u imagenet/generate_data.py --mode best_classes --weights_path {weight_path} --interp shape --n_data 5 --run_name interpolate_test"
      ]
    },
    {
      "cell_type": "markdown",
      "metadata": {
        "id": "1gxJkrn8pbmZ"
      },
      "source": [
        "Showing the first interpolated image"
      ]
    },
    {
      "cell_type": "code",
      "execution_count": null,
      "metadata": {
        "id": "rSrxVmsu_NYR"
      },
      "outputs": [],
      "source": [
        "import matplotlib.image as mpimg\n",
        "i_t = data_path(\"interpolate_test\") + \"ims/\" + \"interpolate_test_0000000_x_gen_interp.jpg\"\n",
        "img = cv2.cvtColor(cv2.imread(i_t), cv2.COLOR_BGR2RGB)\n",
        "plt.imshow(img)"
      ]
    },
    {
      "cell_type": "markdown",
      "metadata": {
        "id": "eKwUwTyq3Wcl"
      },
      "source": [
        "### ImageNet-9 accuracy and Shape vs Texture bias"
      ]
    },
    {
      "cell_type": "markdown",
      "metadata": {
        "id": "pnDCZQ4Q3Wcl"
      },
      "source": [
        "The following code will train the classifiers for the imagenet-9 accuracy table. This will take at least 10 hours including data generation.\n",
        "\n",
        "The best hyper parameters from our hyperparameter search are included in the commands below."
      ]
    },
    {
      "cell_type": "markdown",
      "metadata": {
        "id": "m5rbJi0l3Wcl"
      },
      "source": [
        "Imagenet mini only"
      ]
    },
    {
      "cell_type": "code",
      "execution_count": null,
      "metadata": {
        "id": "d0I_NQIw3Wcl"
      },
      "outputs": [],
      "source": [
        "!{py} imagenet/train_classifier.py -a resnet50 -b 32 --lr 0.0001 -j 0 --mini --epochs 30 -p 100 --pretrained --name classifier_mini_IN_only"
      ]
    },
    {
      "cell_type": "markdown",
      "metadata": {
        "id": "Zf-laX-68JO6"
      },
      "source": [
        "Imagenet mini + CGN"
      ]
    },
    {
      "cell_type": "code",
      "execution_count": null,
      "metadata": {
        "id": "RP-uZtFq3Wcm"
      },
      "outputs": [],
      "source": [
        "%%sh\n",
        "mkdir -p imagenet/data/cf\n",
        "mkdir -p imagenet/data/cf/val\n",
        "mkdir -p imagenet/data/cf/train"
      ]
    },
    {
      "cell_type": "code",
      "execution_count": null,
      "metadata": {
        "id": "fPEd7PU63Wcm"
      },
      "outputs": [],
      "source": [
        "train_path = data_path(\"train\")"
      ]
    },
    {
      "cell_type": "code",
      "execution_count": null,
      "metadata": {
        "id": "K_iJOE0G3Wcm"
      },
      "outputs": [],
      "source": [
        "!{py} -u imagenet/generate_data.py --mode random --weights_path {weight_path} --n_data 100000 --run_name \"train\""
      ]
    },
    {
      "cell_type": "code",
      "execution_count": null,
      "metadata": {
        "id": "2rCjPvGE3Wcm"
      },
      "outputs": [],
      "source": [
        "test_path = data_path(\"val\")"
      ]
    },
    {
      "cell_type": "code",
      "execution_count": null,
      "metadata": {
        "id": "UcTNsp3H3Wcm"
      },
      "outputs": [],
      "source": [
        "!{py} -u imagenet/generate_data.py --mode random --weights_path {weight_path} --n_data 10000 --run_name \"val\""
      ]
    },
    {
      "cell_type": "code",
      "execution_count": null,
      "metadata": {
        "id": "5uPXiqNl3Wcm"
      },
      "outputs": [],
      "source": [
        "!mv {train_path} imagenet/data/cf/train\n",
        "!mv {test_path} imagenet/data/cf/val"
      ]
    },
    {
      "cell_type": "code",
      "execution_count": null,
      "metadata": {
        "id": "OLphhHU78AOc"
      },
      "outputs": [],
      "source": [
        "!{py} imagenet/train_classifier.py -a resnet50 -b 32 --lr 0.0001 -j 6 --mini --cf_ratio 2.0 --epochs 30 -p 100 "
      ]
    },
    {
      "cell_type": "markdown",
      "metadata": {
        "id": "xgcbIwuv3Wcn"
      },
      "source": [
        "## Appendix"
      ]
    },
    {
      "cell_type": "markdown",
      "metadata": {
        "id": "F1w7hsCY3Wcn"
      },
      "source": [
        "**Table 7**"
      ]
    },
    {
      "cell_type": "code",
      "execution_count": null,
      "metadata": {
        "id": "btKyd8I23Wcn"
      },
      "outputs": [],
      "source": [
        "!{py} experiments/figure_7.py\n",
        "!{py} experiments/plot_fig7.py"
      ]
    },
    {
      "cell_type": "markdown",
      "metadata": {
        "id": "mffIcX7_OwGJ"
      },
      "source": [
        "MNIST examples"
      ]
    },
    {
      "cell_type": "code",
      "execution_count": null,
      "metadata": {
        "id": "QlhjXu8lPjQY"
      },
      "outputs": [],
      "source": [
        "!{py} experiments/new_images.py"
      ]
    }
  ],
  "metadata": {
    "accelerator": "GPU",
    "colab": {
      "collapsed_sections": [],
      "name": "Kopie van experiments.ipynb",
      "provenance": []
    },
    "interpreter": {
      "hash": "31f2aee4e71d21fbe5cf8b01ff0e069b9275f58929596ceb00d14d90e3e16cd6"
    },
    "kernelspec": {
      "display_name": "Python 3.8.2 64-bit",
      "name": "python3"
    },
    "language_info": {
      "codemirror_mode": {
        "name": "ipython",
        "version": 3
      },
      "file_extension": ".py",
      "mimetype": "text/x-python",
      "name": "python",
      "nbconvert_exporter": "python",
      "pygments_lexer": "ipython3",
      "version": "3.8.2"
    }
  },
  "nbformat": 4,
  "nbformat_minor": 0
}
